{
 "cells": [
  {
   "cell_type": "raw",
   "metadata": {},
   "source": [
    "---\n",
    "title: Com eliminar el soroll de videos amb aquest programa\n",
    "author: Joan Torregrosa Torres\n",
    "format:\n",
    "  html:\n",
    "    code-fold: true\n",
    "reference-location: margin\n",
    "---"
   ]
  },
  {
   "cell_type": "markdown",
   "metadata": {},
   "source": [
    "# Com eliminar el soroll de videos amb aquest programa\n",
    "\n",
    "El fitxer ica.py conté les classes que abstrauen i faciliten el processament de videos,\n",
    "tant amb un jupyter notebook com amb un altre script de python.\n",
    "També trobem denoise-video.py, un script que podem utilitzar directament des de la línia\n",
    "de comandos per processar un video fàcilment, amb alguns paràmatres modificables,\n",
    "de la manera que està pensat fer-ho.\n",
    "\n",
    "## ica.py\n",
    "\n",
    "El programa conté molta documentació explicant cada funció i classe.\n",
    "La manera de usar-la més simple i típica es troba en la funció `main()`:\n"
   ]
  },
  {
   "cell_type": "code",
   "execution_count": null,
   "metadata": {},
   "outputs": [],
   "source": [
    "from ica import AutoSelector, GaussianSpatialFilter, VideoAnalyzer, VideoData\n",
    "\n",
    "video_path = \"0.avi\"\n",
    "\n",
    "# Initialize VideoProcessor with preprocessors and analysis methods\n",
    "video = VideoData(\n",
    "    video_path,\n",
    ")\n",
    "\n",
    "# Load video\n",
    "video.load_video()\n",
    "\n",
    "analyzer = VideoAnalyzer(video, [GaussianSpatialFilter(1.5)])\n",
    "\n",
    "# Choose how many components to use\n",
    "analyzer.choose_n_pca_components_interactive()\n",
    "\n",
    "# Decompose video\n",
    "analyzer.decompose_video()\n",
    "\n",
    "# Select ICA components\n",
    "is_component_selected = AutoSelector().select_components(\n",
    "    analyzer.get_component_maps()\n",
    ")\n",
    "\n",
    "video.save_frames_as_mp4(\n",
    "    analyzer.compose_video(is_component_selected=is_component_selected), output_path\n",
    ")\n",
    "\n",
    "non_selected_components = [not selected for selected in is_component_selected]\n",
    "video.save_frames_as_mp4(\n",
    "    analyzer.compose_video(is_component_selected=non_selected_components),\n",
    "    \"non_selected_auto.mp4\",\n",
    ")"
   ]
  },
  {
   "cell_type": "markdown",
   "metadata": {},
   "source": [
    "## denoise-video.py\n",
    "\n",
    "Aquest script el podem cridar desde la línia de comandos amb:\n",
    "`python denoise-video.py 0.avi`\n",
    "on en lloc de 0.avi poses el nom del video que vols netejar.\n",
    "\n",
    "Podem usar `python denoise-video.py -h` per vore la ajuda.\n",
    "\n",
    "Així, aplicarà el PCA, mostrarà un grafic i al tancar-lo preguntarà quanta variança acumulada\n",
    "vols mantindre, tenint en compte el agafar la màxima però sense passar-se de 140 components.\n",
    "\n",
    "En cas que la corva cresca molt poc a poc, es pot modificar el argument `--gaussian-sigma` (o `-s`),\n",
    "que te un valor estàndar de 1.5, però es pot augmentar per modificar la relació senyal soroll, ja que aquesta\n",
    "depen del tamany del video entre altres coses i pot tindre altres valors més adequats.\n",
    "\n",
    "També podem posar l'argument `--output-path` (o `-o`) per modificar el nom del fitxer que trau, que per defecte sera out.mp4.\n",
    "\n",
    "Per últim, si volem guardar el video de les components no seleccionades per comprovar que no ens hem deixat cap\n",
    "informació important, posem la flag `--save-not-selected-components` (o `-n`).\n",
    "\n",
    "Així, una cridada completa quedaria.\n",
    "`python denoise-video.py --gaussian-sigma 1.5 -o denoised.mp4 -n 0.avi`"
   ]
  }
 ],
 "metadata": {
  "kernelspec": {
   "display_name": "Python 3 (ipykernel)",
   "language": "python",
   "name": "python3",
   "path": "/home/xampinyon/Documents/programacio/python/horizontal_noise_remove/.direnv/python-3.12/share/jupyter/kernels/python3"
  }
 },
 "nbformat": 4,
 "nbformat_minor": 4
}
